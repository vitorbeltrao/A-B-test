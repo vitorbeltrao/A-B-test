{
 "cells": [
  {
   "cell_type": "markdown",
   "id": "6ac7857f-50ba-496d-a358-5dbdec41c05c",
   "metadata": {},
   "source": [
    "# Teste A/B: uma abordagem prática\n",
    "\n",
    "Há um grande passo lógico, dizer que duas variáveis estão correlacionadas. Que o aumento de uma delas causa o aumento da outra ou que o aumento de uma delas causa a diminuição da outra e vice-versa. No geral, pode haver outras variáveis que não consideramos, você já deve ter lido ou ouvido a frase: **correlação não implica causalidade**. Só porque matematicamente duas variáveis estão relacionadas uma a outra, não significa que, quando uma mudar, a outra também vai mudar.\n",
    "\n",
    "<center><img src=\"https://github.com/vitorbeltrao/Pictures/blob/main/sporious_correlations.png?raw=true\" width=\"40%\"></center>\n",
    "\n",
    "**Nesse caso, como deduzimos, que de fato há uma causalidade?**\n",
    "\n",
    "Você pode dizer que mudanças no seu site fazem com que os visitantes façam mais compras ou talvez você queira mostrar que mudanças no seu mecanismo de recomendação fornecem melhores resultados de pesquisa para seus usuários. **Para testar essas e outras hipóteses, devemos fazer um experimento**.\n",
    "\n",
    "<center><img src=\"https://images.unsplash.com/photo-1561986863-60b73438b5c1?ixlib=rb-1.2.1&ixid=MnwxMjA3fDB8MHxwaG90by1wYWdlfHx8fGVufDB8fHx8&auto=format&fit=crop&w=870&q=80\" width=\"35%\"></center>\n",
    "\n",
    "O design experimental é importante para cientistas de dados ou qualquer outro profissional que queira fazer um experimento, pois, os ajuda a entender o escopo de conclusões que podem tirar de seus dados. Tudo isso equipado com ferramentas estatísticas."
   ]
  },
  {
   "cell_type": "markdown",
   "id": "b71e68f6-ca95-4b17-af7b-3f0fb1889299",
   "metadata": {},
   "source": [
    "## O que é um experimento?\n",
    "\n",
    "Digamos que você tenha uma loja online e queira adicionar um novo recurso em seu website. **Você gostaria de testar se esse novo recurso gera mais vendas para a sua loja.** Esse seria o objetivo do experimento.\n",
    "\n",
    "Bem, se fizermos um experimento para esse objetivo, poderemos dizer se o novo recurso **causou ou não** uma mudança nos hábitos de compra dos clientes. Então o que de fato torna um experimento um experimento?\n",
    "\n",
    "**Resumidamente:**\n",
    "\n",
    "1. Precisamos realizar uma comparação entre dois grupos de usuários. Se tivermos algumas pessoas interagindo com o site antigo, sem o novo recurso e algumas pessoas interagindo com o novo site, com o novo recurso, a diferença nas compras feitas por cada grupo nos mostrará o efeito desse novo recurso. Faremos o que chamamos na estatística de **teste de hipótese**.\n",
    "\n",
    "2. Em paralelo, precisamos controlar outras diferenças entre os dois grupos. A única diferença entre eles deve ser o recurso que manipulamos. Para cada cliente, nós o atribuímos aleatoriamente a uma versão do site. Ao dividir indivíduos aleatoriamente a cada página do site (uma com o novo recurso e outra sem o novo recurso), a distribuição de outras variáveis, como por exemplo, idade ou sexo, deve ser semelhante entre os grupos.\n",
    "\n",
    "***\n",
    "\n",
    "Há muitas maneiras pelas quais os dados podem ser coletados para testar ou entender a relação entre duas variáveis de interesse. Podemos dividi-las em três tópicos principais, com base na quantidade de controle que você mantém sobre as variáveis em questão. São elas:\n",
    "\n",
    "* Se você tiver **muito controle** sobre os recursos, terá um **experimento**.\n",
    "* Se você **não tem controle** sobre os recursos, terá um **estudo observacional**.\n",
    "* Se você **tem algum controle**, terá um **quase experimento**.\n",
    "\n",
    "Para o nosso escopo aqui, iremos falar apenas dos experimentos! Mas também é útil conhecer os outros tipos de estudo para que você possa usá-los da maneira correta, especialmente se um experimento não puder ser executado."
   ]
  },
  {
   "cell_type": "markdown",
   "id": "1d4eaa6b-e6e4-484f-8f43-d23896fcbe6b",
   "metadata": {},
   "source": [
    "## Tipos de experimento\n",
    "\n",
    "**Experimento entre sujeitos (ou entre grupos)**\n",
    "\n",
    "Esse, possivelmente é o experimento mais comum, ao se pensar em um experimento. Nele, cada unidade, participa ou vê apenas uma das condições que estão sendo usadas no experimento (antigo recurso ou novo recurso para o website).\n",
    "\n",
    "Costumamos dividir o experimento (da forma mais simples) em dois grupos: **grupo de controle e grupo experimental**. Você já deve ter ouvido falar dessa abordagem, mas para resumir, o grupo de controle é aquele em que as unidades participantes interagem com a versão antiga, versão **sem o novo recurso experimental**, na área médica, esse seria o grupo que receberia o placebo. Analogamente, o grupo experimental é aquele em que as unidades participantes interagem com a versão nova, **versão com o novo recurso experimental** e, novamente fazendo o paralelo com a área médica, esse seria o grupo que de fato receberia o promissor medicamento.\n",
    "\n",
    "No final, a ideia é comparar os resultados entre os grupos para fazer um julgamento assertivo sobre o efeito da nossa manipulação. Para experimentos na *Web*, esse tipo de projeto de experimento é chamado **teste A/B**.\n",
    "\n",
    "<center><img src=\"https://img.freepik.com/vetores-gratis/banner-de-cartoon-de-teste-de-divisao-ab-comparacao-de-site_107791-3686.jpg?t=st=1656700830~exp=1656701430~hmac=8ca0cfd95f5340952c1da086ec48dd039c91bb9cdb18a8b723d702d1fe459058&w=996\" width=\"35%\"></center>\n",
    "\n",
    "**Observação:** Não estamos limitados a apenas dois grupos. Poderíamos ter vários grupos experimentais para comparar. Isso poderia formar um teste A/B/C, por exemplo. Para fins didáticos vamos focar apenas em dois grupos aqui.\n",
    "\n",
    "***\n",
    "\n",
    "**Experimento dentro dos sujeitos (ou sujeito único)**\n",
    "\n",
    "Esse, seria quando um indivíduo interage com todas as condições, em vez de apenas uma (como foi no caso do tipo de experimento anterior).\n",
    "\n",
    "Ao medir a produção de um indivíduo em todas as condições, sabemos que a distribuição de características nos grupos será equivalente. Podemos levar em conta as aptidões ou inclinações dos indivíduos em nossa análise. Por exemplo, se um indivíduo classifica três paletas de cores diferentes para um produto, podemos saber se uma classificação alta para uma paleta é particularmente boa em comparação com as outras ou se não é uma distinção tão importante.\n",
    "\n",
    "Não vamos entrar muito em detalhes nesse segundo tipo de experimento aqui. Nosso exemplo será focado no **Experimento entre sujeitos**.\n",
    "\n",
    "***\n",
    "\n",
    "Nem sempre é possível realizar experimentos dentro dos sujeitos, como no nosso exemplo do website, quando um usuário visita um site e conclui sua sessão, geralmente não podemos garantir quando ele voltará. Caso volte, o objetivo dessa segunda visita, pode não ser comparável ao da primeira. Nesse caso, isso pode exigir muito mais esforço no controle para configurar um design eficaz dentro dos sujeitos.\n",
    "\n",
    "Temos mais um tipo de experimento chamado de **projetos fatoriais**, não iremos detalhá-lo aqui, fica de dever de casa, caso você leitor, queira se aprofundar ainda mais no assunto."
   ]
  },
  {
   "cell_type": "markdown",
   "id": "c34264d2-16db-48c4-b8f3-e286f61e1fc4",
   "metadata": {},
   "source": [
    "## Exercício prático - Projetar um experimento"
   ]
  },
  {
   "cell_type": "markdown",
   "id": "165351ee-16ce-4264-b894-4156509f58b2",
   "metadata": {},
   "source": [
    "### Descrição do cenário\n",
    "\n",
    "Digamos que você esteja trabalhando para uma empresa de software de produtividade fictícia que está procurando maneiras de aumentar o número de pessoas que pagam por seu software. Da forma como o software está configurado atualmente, os usuários podem baixar e usar o software gratuitamente, por um período de avaliação de 7 dias. Após o término da avaliação, os usuários devem pagar por uma licença para continuar usando o software.\n",
    "\n",
    "**Uma ideia que a empresa quer experimentar é mudar o layout da página inicial para enfatizar com mais destaque que há um teste de 7 dias disponível para o software da empresa**. O receio que eles tem atualmente, é que alguns usuários em potencial estejam perdendo o uso do software devido à falta de conhecimento do período de teste. **Se mais pessoas baixarem o software e o usarem no período de teste, a esperança é que isso atraia mais pessoas a fazer uma compra depois de ver o que o software pode fazer.**"
   ]
  },
  {
   "cell_type": "markdown",
   "id": "4f9ec730-3017-4576-ae97-339f9c4189ea",
   "metadata": {},
   "source": [
    "### Tamanho do experimento e amostragem\n",
    "\n",
    "Embora experimentos online tenham facilidade para coletar dados, temos que nos preocupar com a amostragem. Não é razoável em termos de tempo e dinheiro tentar coletar pensamentos de cada pessoa da população, portanto, aplicamos uma técnica estatística de amostragem, cujo objetivo é pegar apenas um subconjunto da população e usar as respostas desse subconjunto para fazer uma inferência sobre toda a população.\n",
    "\n",
    "Os tipos de técnicas de amostragem mais comuns são: **amostragem aleatória simples** e **amostragem aleatória estratificada**.\n",
    "\n",
    "**O tempo de execução para esse experimento foi dimensionado para 29 dias.**"
   ]
  },
  {
   "cell_type": "code",
   "execution_count": 1,
   "id": "8c0de6ef-3aef-4ad9-9d4f-6c5b59ff6948",
   "metadata": {},
   "outputs": [],
   "source": [
    "# import necessary packages\n",
    "import pandas as pd\n",
    "import numpy as np\n",
    "import matplotlib.pyplot as plt\n",
    "import seaborn as sns"
   ]
  },
  {
   "cell_type": "code",
   "execution_count": 2,
   "id": "cc5ea411-7b07-43a0-9802-e54a368ac11d",
   "metadata": {},
   "outputs": [],
   "source": [
    "# Read data as a pandas dataframe\n",
    "df = pd.read_csv('homepage-experiment-data.csv')"
   ]
  },
  {
   "cell_type": "code",
   "execution_count": 3,
   "id": "4418cf7e-2b84-424d-8079-707b56edbce1",
   "metadata": {},
   "outputs": [
    {
     "data": {
      "text/html": [
       "<div>\n",
       "<style scoped>\n",
       "    .dataframe tbody tr th:only-of-type {\n",
       "        vertical-align: middle;\n",
       "    }\n",
       "\n",
       "    .dataframe tbody tr th {\n",
       "        vertical-align: top;\n",
       "    }\n",
       "\n",
       "    .dataframe thead th {\n",
       "        text-align: right;\n",
       "    }\n",
       "</style>\n",
       "<table border=\"1\" class=\"dataframe\">\n",
       "  <thead>\n",
       "    <tr style=\"text-align: right;\">\n",
       "      <th></th>\n",
       "      <th>Day</th>\n",
       "      <th>Control Cookies</th>\n",
       "      <th>Control Downloads</th>\n",
       "      <th>Control Licenses</th>\n",
       "      <th>Experiment Cookies</th>\n",
       "      <th>Experiment Downloads</th>\n",
       "      <th>Experiment Licenses</th>\n",
       "    </tr>\n",
       "  </thead>\n",
       "  <tbody>\n",
       "    <tr>\n",
       "      <th>0</th>\n",
       "      <td>1</td>\n",
       "      <td>1764</td>\n",
       "      <td>246</td>\n",
       "      <td>1</td>\n",
       "      <td>1850</td>\n",
       "      <td>339</td>\n",
       "      <td>3</td>\n",
       "    </tr>\n",
       "    <tr>\n",
       "      <th>1</th>\n",
       "      <td>2</td>\n",
       "      <td>1541</td>\n",
       "      <td>234</td>\n",
       "      <td>2</td>\n",
       "      <td>1590</td>\n",
       "      <td>281</td>\n",
       "      <td>2</td>\n",
       "    </tr>\n",
       "    <tr>\n",
       "      <th>2</th>\n",
       "      <td>3</td>\n",
       "      <td>1457</td>\n",
       "      <td>240</td>\n",
       "      <td>1</td>\n",
       "      <td>1515</td>\n",
       "      <td>274</td>\n",
       "      <td>1</td>\n",
       "    </tr>\n",
       "    <tr>\n",
       "      <th>3</th>\n",
       "      <td>4</td>\n",
       "      <td>1587</td>\n",
       "      <td>224</td>\n",
       "      <td>1</td>\n",
       "      <td>1541</td>\n",
       "      <td>284</td>\n",
       "      <td>2</td>\n",
       "    </tr>\n",
       "    <tr>\n",
       "      <th>4</th>\n",
       "      <td>5</td>\n",
       "      <td>1606</td>\n",
       "      <td>253</td>\n",
       "      <td>2</td>\n",
       "      <td>1643</td>\n",
       "      <td>292</td>\n",
       "      <td>3</td>\n",
       "    </tr>\n",
       "  </tbody>\n",
       "</table>\n",
       "</div>"
      ],
      "text/plain": [
       "   Day  Control Cookies  Control Downloads  Control Licenses  \\\n",
       "0    1             1764                246                 1   \n",
       "1    2             1541                234                 2   \n",
       "2    3             1457                240                 1   \n",
       "3    4             1587                224                 1   \n",
       "4    5             1606                253                 2   \n",
       "\n",
       "   Experiment Cookies  Experiment Downloads  Experiment Licenses  \n",
       "0                1850                   339                    3  \n",
       "1                1590                   281                    2  \n",
       "2                1515                   274                    1  \n",
       "3                1541                   284                    2  \n",
       "4                1643                   292                    3  "
      ]
     },
     "execution_count": 3,
     "metadata": {},
     "output_type": "execute_result"
    }
   ],
   "source": [
    "# See five first entries\n",
    "df.head()"
   ]
  },
  {
   "cell_type": "markdown",
   "id": "1d90724a-a92b-4267-8b06-544b781d23e2",
   "metadata": {},
   "source": [
    "As variáveis presentes nesse conjunto de dados informam, respectivamente:\n",
    "\n",
    "* **Day:** Em qual dia da experimentação estávamos.\n",
    "* **Control Cookies:** Contagem diária do número de cookies exclusivos para o grupo de controle.\n",
    "* **Control Downloads:** Contagem diária do número de downloads feito pelo grupo de controle.\n",
    "* **Control Licenses:** Contagem diária do número de licensas adquiridas pelo grupo de controle.\n",
    "* **Experiment Cookies:** Contagem diária do número de cookies exclusivos para o grupo de experimento.\n",
    "* **Experiment Downloads:** Contagem diária do número de downloads feito pelo grupo de experimento.\n",
    "* **Experiment Licenses:** Contagem diária do número de downloads feito pelo grupo de experimento."
   ]
  },
  {
   "cell_type": "markdown",
   "id": "82e84c99-354f-4b09-a036-aae3ad25e7e6",
   "metadata": {},
   "source": [
    "### Medir os Resultados\n",
    "\n",
    "Para planejar um estudo eficaz, você precisa separar claramente o objetivo do estudo de como você vai medir o sucesso dele. Os objetivos do seu estudo podem não ser os mesmos da forma como você avalia o sucesso do estudo.\n",
    "\n",
    "Digamos que você tenha uma ideia de uma adição de um recurso em seu site que melhore a satisfação do usuário. **Como devemos medir isso?** Para avaliar se essa melhoria aconteceu ou não, você precisa ter uma forma de medir objetivamente o efeito da adição do novo recurso. Por exemplo, você pode incluir uma pesquisa para usuários aleatórios para que eles avaliem a experiência no site em uma escala de 1 a 10. Se a adição do novo recurso for útil, devemos esperar que a classificação média seja maior para os usuários que receberam a adição do novo recurso, em comparação com aqueles que não receberam. A escala de classificação funciona como uma forma concreta de medir a satisfação do usuário. Esses recursos objetivos pelos quais você avalia o desempenho são conhecidos como **métricas de avaliação**.\n",
    "\n",
    "<center><img src=\"https://img.freepik.com/fotos-gratis/indicador-de-desempenho-chave-do-kpi-com-objetivo-da-lampada-de-ideia_1357-50.jpg?t=st=1656958523~exp=1656959123~hmac=306f90c9df5756095e5cb28d97adaf7388b5ef74ca2e25a8e59ae3c52801a612&w=740\" width=\"30%\"></center>\n",
    "\n",
    "Como regra geral, é uma boa ideia considerar os objetivos de um estudo separadamente das métricas de avaliação. Isso fornece alguns benefícios úteis. Primeiro, isso deixa claro que a métrica não é o ponto principal de um estudo: **são as implicações da métrica em relação ao objetivo que importa.**\n",
    "\n",
    "Segundo, separar a métrica do objetivo pode esclarecer o propósito da realização do estudo ou experimento. **Isso garante que possamos responder à pergunta de por que queremos realizar um estudo ou experimento.**\n",
    "\n",
    "***\n",
    "\n",
    "Com relação as métricas, existem duas categorias principais que podemos considerar:\n",
    "\n",
    "* métricas de avaliação.\n",
    "* métricas invariáveis.\n",
    "\n",
    "Resumidamente, as **métricas de avaliação** são a forma como comparamos os grupos, e idealmente, **esperamos ver uma diferença entre os grupos** que nos dirá se a nossa manipulação foi um sucesso. Podemos por exemplo querer ver um aumento na taxa de cliques ou um aumento na receita geral. Por outro lado, as **métricas invariáveis** são métricas que **esperamos não ser diferente entre os grupos**. As métricas nessa categoria servem para verificar se o experimento está sendo executado conforme o esperado.\n",
    "\n",
    "Antes de prosseguir, é interessante saber que não estamos limitados a rastrear apenas uma métrica de cada tipo. Não é incomum rastrear várias métricas invariáveis como verificações da integridade do sistema ou várias métricas de avaliação para verificar diferentes facetas potenciais dos efeitos de uma manipulação. No entanto, não pense que você precisa acompanhar todas as métricas possíveis. **É melhor se concentrar em algumas métricas-chave**, ignorando recursos que podem ser menos confiáveis ou altamente correlacionados a outros recursos mais informativos."
   ]
  },
  {
   "cell_type": "markdown",
   "id": "4d9b2e73-4b9d-411d-9419-6a84835671f3",
   "metadata": {},
   "source": [
    "#### Verificação da métrica invariante\n",
    "\n",
    "Vamos começar a análise do nosso experimento verificando a métrica invariante. Aqui, devemos verificar se o número de visitantes atribuídos a cada grupo é semelhante. É importante verificar as métricas invariantes como pré-requisito para que nossas inferências sobre as métricas de avaliação sejam fundamentadas em bases sólidas. Se descobrirmos que os dois grupos estão desequilibrados na métrica invariável, isso exigirá que analisemos cuidadosamente como os grupos foram divididos para que quaisquer fontes de viés sejam contabilizados. **É possível que uma diferença estatisticamente significativa em uma métrica invariável exija que revisemos os procedimentos de atribuição aleatória e refaçamos a coleta de dados.**\n",
    "\n",
    "Nesse caso, queremos fazer um teste de hipótese bicaudal sobre a proporção de visitantes atribuídos a uma de nossas condições. \n",
    "\n",
    "* H0: média cookies grupo de experimento - média cookies grupo de controle = 0\n",
    "* H1: média cookies grupo de experimento - média cookies grupo de controle != 0\n",
    "\n",
    "Essas são as hipóteses que queremos testar, *H0* é a hipótese nula (hipótese que assumimos ser verdadeira) e *H1* é a hipótese alternativa (hipótese que queremos provar se é verdadeira)."
   ]
  },
  {
   "cell_type": "code",
   "execution_count": 4,
   "id": "66980b10-2395-4270-8590-58c3e9404ba1",
   "metadata": {},
   "outputs": [
    {
     "name": "stdout",
     "output_type": "stream",
     "text": [
      "The mean of control cookies values: 1615.551724137931\n",
      "The mean of experimental cookies values: 1632.6206896551723\n",
      "The difference of means in both groups: 17.068965517241395\n"
     ]
    }
   ],
   "source": [
    "# Let's observe control cookies\n",
    "mean_control_cookies = np.mean(df['Control Cookies'])\n",
    "print('The mean of control cookies values:', mean_control_cookies)\n",
    "\n",
    "# Let's observe experimental cookies\n",
    "mean_exp_cookies = np.mean(df['Experiment Cookies'])\n",
    "print('The mean of experimental cookies values:', mean_exp_cookies)\n",
    "\n",
    "# Mean's difference\n",
    "diff = mean_exp_cookies - mean_control_cookies\n",
    "print('The difference of means in both groups:', diff)"
   ]
  },
  {
   "cell_type": "markdown",
   "id": "1a658f91-ebf2-472a-be04-5a1c2745405f",
   "metadata": {},
   "source": [
    "Para realizar os testes de hipótese, podemos utilizar abordagens padrão sobre distribuições normais. Aqui iremos utilizar uma abordagem não paramétrica, cuja abordagem tem suas vantagens, pois, elas não dependem de muitas suposições da população subjacente e, portanto, podem ser usados em uma variedade maior de circunstâncias em comparação com os testes padrão.\n",
    "\n",
    "Meu conselho, se você tiver tempo, utilize mais de uma abordagem e compare. É sempre uma boa prática conferir os resultados de outras formas para sermos mais assertivos."
   ]
  },
  {
   "cell_type": "code",
   "execution_count": 5,
   "id": "b7d29fad-b5fe-4a6a-a087-177f58722367",
   "metadata": {},
   "outputs": [],
   "source": [
    "# Let's bootstrap samples to see differences in proportions\n",
    "diffs = []\n",
    "\n",
    "for i in range(10000):\n",
    "    bootstrap = df.sample(n=df.shape[0], replace=True)\n",
    "    bootstrap_mean_control_cookies = np.mean(bootstrap['Control Cookies'])\n",
    "    bootstrap_mean_exp_cookies = np.mean(bootstrap['Experiment Cookies'])\n",
    "    diffs.append(bootstrap_mean_exp_cookies - bootstrap_mean_control_cookies)"
   ]
  },
  {
   "cell_type": "markdown",
   "id": "d538fba8-5620-4560-8a98-6e7e961ebb7a",
   "metadata": {},
   "source": [
    "O **bootstrap**, que é a abordagem não paramétrica utilizada aqui para testar as hipóteses, é muito utilizada para estimar distribuições de amostragem usando os dados realmente coletados para gerar novas amostras que poderiam ter sido coletadas hipoteticamente.\n",
    "\n",
    "Não é escopo desse artigo detalhar o funcionamento do método. Para mais informações sobre o *bootstrap* consulte este [artigo](https://towardsdatascience.com/an-introduction-to-the-bootstrap-method-58bcb51b4d60) bem completo sobre o assunto. \n",
    "\n"
   ]
  },
  {
   "cell_type": "code",
   "execution_count": 6,
   "id": "5b2f951c-bb34-41b4-8c00-7f7c09aab2f5",
   "metadata": {},
   "outputs": [
    {
     "data": {
      "image/png": "[encoded data removed]",
      "text/plain": [
       "<Figure size 432x288 with 1 Axes>"
      ]
     },
     "metadata": {
      "needs_background": "light"
     },
     "output_type": "display_data"
    }
   ],
   "source": [
    "# Lets see the result in a histogram\n",
    "plt.title('Histogram simulation of the sample distribution between the two groups')\n",
    "plt.hist(diffs);"
   ]
  },
  {
   "cell_type": "code",
   "execution_count": 7,
   "id": "5dc2b2e8-5e45-4c22-a0ce-c4f70493acb9",
   "metadata": {},
   "outputs": [
    {
     "data": {
      "text/plain": [
       "<matplotlib.lines.Line2D at 0x159a3853310>"
      ]
     },
     "execution_count": 7,
     "metadata": {},
     "output_type": "execute_result"
    },
    {
     "data": {
      "image/png": "[encoded data removed]",
      "text/plain": [
       "<Figure size 432x288 with 1 Axes>"
      ]
     },
     "metadata": {
      "needs_background": "light"
     },
     "output_type": "display_data"
    }
   ],
   "source": [
    "# Let's simulate the null hypothesis\n",
    "null_hypothesis = np.random.normal(loc=0, scale=np.std(diffs), size=len(diffs))\n",
    "\n",
    "# Lets see the null hypothesis in a histogram\n",
    "plt.title('Histogram of the null hypothesis simulation')\n",
    "plt.hist(null_hypothesis);\n",
    "plt.axvline(x=diff, color='red')"
   ]
  },
  {
   "cell_type": "code",
   "execution_count": 8,
   "id": "20fff9cd-4547-44bc-9723-4e8079945d6e",
   "metadata": {},
   "outputs": [
    {
     "name": "stdout",
     "output_type": "stream",
     "text": [
      "p-value: 0.14250000000000002\n"
     ]
    }
   ],
   "source": [
    "# Let's find our pvalue\n",
    "upper_bound = diff\n",
    "lower_bound = 0 - (diff - 0)\n",
    "p_val = (null_hypothesis > upper_bound).mean() + (null_hypothesis < lower_bound).mean()\n",
    "print('p-value:', p_val)"
   ]
  },
  {
   "cell_type": "markdown",
   "id": "58222a4f-7f3a-4bf7-bd83-4cc6b8ea3311",
   "metadata": {},
   "source": [
    "A linha vermelha plotada, é a posição da diferença observada da média dos cookies do grupo experimental e do grupo de controle que calculamos acima (17,07).\n",
    "\n",
    "O p-value indica a probabilidade de se observar uma diferença tão grande ou maior do que a que foi observada sob a hipótese nula, como o p-value obteve um valor maior que o nosso limiar de significância (0,05), então falhamos em rejeitar a hipótese nula, o que nesse caso, era o que queríamos. Podemos então seguir o experimento sem nos preocupar se os nossos dados estão com um viés de coleta, pois, o resultado sugeriu que os grupos estão equilibrados.\n",
    "\n",
    "Vamos recapitular as etapas que realizamos para para analisar os resultados da métrica invariante (isso será muito parecido para os outros testes que faremos para as métricas de avaliação, em seguida):\n",
    "\n",
    "1. Calculamos a **diferença observada** entre a métrica, média de cookies, para o grupo de controle e experimental.\n",
    "2. Com o bootstrap, simulamos a **distribuição amostral** para a diferença das médias de cookies entre os dois grupos.\n",
    "3. Usamos essa distribuição amostral para simular a **distribuição sob a hipótese nula**, criando uma distribuição normal aleatória centrada em 0 e desvio-padrão igual ao desvio-padrão observado na distribuição amostral.\n",
    "4. Calculamos o **p-value** encontrando a proporção de valores na distribuição nula que eram maiores que nossa diferença observada.\n",
    "5. Usamos esse p-value para determinar a **significância estatística** de nossa diferença observada."
   ]
  },
  {
   "cell_type": "markdown",
   "id": "82746307-5cea-4b31-97a7-1f42a204e836",
   "metadata": {},
   "source": [
    "#### Verificação da métrica de avaliação I: taxa de download do software\n",
    "\n",
    "Depois de realizar nossas verificações na métrica invariável, podemos realizar também, um teste de hipótese na métrica de avaliação: a taxa de downloads. Nesse caso, queremos ver que o grupo experimental tenha uma taxa de downloads significativamente maior que o grupo de controle, um teste unicaudal.\n",
    "\n",
    "taxa de downloads = total de downloads / número de cookies\n",
    "\n",
    "* H0: média da taxa de downloads grupo de experimento - média da taxa de downloads grupo de controle <= 0\n",
    "* H1: média da taxa de downloads grupo de experimento - média da taxa de downloads grupo de controle > 0"
   ]
  },
  {
   "cell_type": "code",
   "execution_count": 9,
   "id": "7b6eba99-b942-4ca6-9b7a-88870d6bba38",
   "metadata": {},
   "outputs": [
    {
     "name": "stdout",
     "output_type": "stream",
     "text": [
      "Download rate for control group: 0.16123455209067042\n",
      "Download rate for experimental group: 0.180543234908968\n",
      "Difference in download rate for both groups: 0.01930868281829759\n"
     ]
    }
   ],
   "source": [
    "# first let's see the data from control part\n",
    "control_download_rate = np.sum(df['Control Downloads']) / np.sum(df['Control Cookies'])\n",
    "print('Download rate for control group:', control_download_rate)\n",
    "\n",
    "# now let's see the data from experiment part\n",
    "exp_download_rate = np.sum(df['Experiment Downloads']) / np.sum(df['Experiment Cookies'])\n",
    "print('Download rate for experimental group:', exp_download_rate)\n",
    "\n",
    "# difference between two groups\n",
    "download_rate_diff = exp_download_rate - control_download_rate\n",
    "print('Difference in download rate for both groups:', download_rate_diff)"
   ]
  },
  {
   "cell_type": "code",
   "execution_count": 10,
   "id": "d4d8092e-63d5-4210-a183-65d65c98b621",
   "metadata": {},
   "outputs": [],
   "source": [
    "# Let's bootstrap samples to see differences in proportions\n",
    "download_rate_diffs = []\n",
    "\n",
    "for i in range(10000):\n",
    "    bootstrap = df.sample(n=df.shape[0], replace=True)\n",
    "    bootstrap_control_download_rate = np.sum(bootstrap['Control Downloads']) / np.sum(bootstrap['Control Cookies'])\n",
    "    bootstrap_exp_download_rate = np.sum(bootstrap['Experiment Downloads']) / np.sum(bootstrap['Experiment Cookies'])\n",
    "    download_rate_diffs.append(bootstrap_exp_download_rate - bootstrap_control_download_rate)"
   ]
  },
  {
   "cell_type": "code",
   "execution_count": 11,
   "id": "ce240bc6-71b1-4357-a546-c45e76b9280c",
   "metadata": {},
   "outputs": [
    {
     "data": {
      "image/png": "[encoded data removed]",
      "text/plain": [
       "<Figure size 432x288 with 1 Axes>"
      ]
     },
     "metadata": {
      "needs_background": "light"
     },
     "output_type": "display_data"
    }
   ],
   "source": [
    "# Lets see the result in a histogram\n",
    "plt.title('Histogram simulation of the sample distribution between the two groups')\n",
    "plt.hist(download_rate_diffs);"
   ]
  },
  {
   "cell_type": "code",
   "execution_count": 12,
   "id": "3e275b61-52df-4272-b03e-7747f18b9ebd",
   "metadata": {},
   "outputs": [
    {
     "data": {
      "text/plain": [
       "<matplotlib.lines.Line2D at 0x159a3ad2ee0>"
      ]
     },
     "execution_count": 12,
     "metadata": {},
     "output_type": "execute_result"
    },
    {
     "data": {
      "image/png": "[encoded data removed]",
      "text/plain": [
       "<Figure size 432x288 with 1 Axes>"
      ]
     },
     "metadata": {
      "needs_background": "light"
     },
     "output_type": "display_data"
    }
   ],
   "source": [
    "# Let's simulate the null hypothesis\n",
    "download_null_hypothesis = np.random.normal(loc=0, scale=np.std(download_rate_diffs), size=len(download_rate_diffs))\n",
    "\n",
    "# Lets see the null hypothesis in a histogram\n",
    "plt.title('Histogram of the null hypothesis simulation')\n",
    "plt.hist(download_null_hypothesis);\n",
    "plt.axvline(x=download_rate_diff, color='red')"
   ]
  },
  {
   "cell_type": "code",
   "execution_count": 13,
   "id": "f5164d25-82a5-402d-8596-476c20ac2e45",
   "metadata": {},
   "outputs": [
    {
     "name": "stdout",
     "output_type": "stream",
     "text": [
      "p-value: 0.0\n"
     ]
    }
   ],
   "source": [
    "# Let's find our pvalue\n",
    "pvalue = (download_null_hypothesis > download_rate_diff).mean()\n",
    "print('p-value:', pvalue)"
   ]
  },
  {
   "cell_type": "markdown",
   "id": "01660162-c286-4f7f-a929-d6c87ce1e571",
   "metadata": {},
   "source": [
    "Diferentemente da métrica invariante, o p-value para a métrica de avaliação I foi menor que o limiar de significância (0,05). Isso sugere que devemos rejeitar a hipótese nula, e consequentemente, aceitar a hipótese alternativa. Concluímos então, que o novo recurso testado, de fato fez com que as taxas de downloads do software aumentassem."
   ]
  },
  {
   "cell_type": "markdown",
   "id": "b9b989a1-9e32-4ec8-9975-422baf157e79",
   "metadata": {},
   "source": [
    "#### Verificação da métrica de avaliação II: taxa de obtenção de licensas para o software\n",
    "\n",
    "Para essa outra métrica, também queremos ver que o grupo experimental tenha uma taxa de obtenção de licensas do software significativamente maior que o grupo de controle, novamente, um teste unicaudal.\n",
    "\n",
    "taxa de obtenção de licensas = total de licensas / número de cookies\n",
    "\n",
    "* H0: média da taxa de licensas grupo de experimento - média da taxa de licensas grupo de controle <= 0\n",
    "* H1: média da taxa de licensas grupo de experimento - média da taxa de licensas grupo de controle > 0"
   ]
  },
  {
   "cell_type": "code",
   "execution_count": 14,
   "id": "85a3832b-9c33-4874-b68c-1513e9879f03",
   "metadata": {},
   "outputs": [
    {
     "name": "stdout",
     "output_type": "stream",
     "text": [
      "Licenses rate for control group: 0.01999943663558773\n",
      "Licenses rate for experimental group: 0.02022155308157684\n",
      "Difference in licenses rate for both groups: 0.00022211644598910812\n"
     ]
    }
   ],
   "source": [
    "# first let's see the data from control part\n",
    "control_licenses_rate = np.sum(df['Control Licenses']) / df[df['Day'] <= 22]['Control Cookies'].sum()\n",
    "print('Licenses rate for control group:', control_licenses_rate)\n",
    "\n",
    "# now let's see the data from experiment part\n",
    "exp_licenses_rate = np.sum(df['Experiment Licenses']) / df[df['Day'] <= 22]['Experiment Cookies'].sum()\n",
    "print('Licenses rate for experimental group:', exp_licenses_rate)\n",
    "\n",
    "# difference between two groups\n",
    "licenses_rate_diff = exp_licenses_rate - control_licenses_rate\n",
    "print('Difference in licenses rate for both groups:', licenses_rate_diff)"
   ]
  },
  {
   "cell_type": "code",
   "execution_count": 15,
   "id": "52611762-a5f4-4317-abf8-9bb513f8d77d",
   "metadata": {},
   "outputs": [],
   "source": [
    "# Let's bootstrap samples to see differences in proportions\n",
    "licenses_rate_diffs = []\n",
    "\n",
    "for i in range(10000):\n",
    "    bootstrap = df.sample(n=df.shape[0], replace=True)\n",
    "    bootstrap_control_licenses_rate = np.sum(bootstrap['Control Licenses']) / bootstrap[bootstrap['Day'] <= 22]['Control Cookies'].sum()\n",
    "    bootstrap_exp_licenses_rate = np.sum(bootstrap['Experiment Licenses']) / bootstrap[bootstrap['Day'] <= 22]['Experiment Cookies'].sum()\n",
    "    licenses_rate_diffs.append(bootstrap_exp_licenses_rate - bootstrap_control_licenses_rate)"
   ]
  },
  {
   "cell_type": "code",
   "execution_count": 16,
   "id": "ff3e11cc-4b62-4cdc-a940-3602d444247c",
   "metadata": {},
   "outputs": [
    {
     "data": {
      "image/png": "[encoded data removed]",
      "text/plain": [
       "<Figure size 432x288 with 1 Axes>"
      ]
     },
     "metadata": {
      "needs_background": "light"
     },
     "output_type": "display_data"
    }
   ],
   "source": [
    "# Lets see the result in a histogram\n",
    "plt.title('Histogram simulation of the sample distribution between the two groups')\n",
    "plt.hist(download_rate_diffs);"
   ]
  },
  {
   "cell_type": "code",
   "execution_count": 17,
   "id": "a117a3f8-f759-47d9-b940-a0fc2a9683ee",
   "metadata": {},
   "outputs": [
    {
     "data": {
      "text/plain": [
       "<matplotlib.lines.Line2D at 0x159a3a93f10>"
      ]
     },
     "execution_count": 17,
     "metadata": {},
     "output_type": "execute_result"
    },
    {
     "data": {
      "image/png": "[encoded data removed]",
      "text/plain": [
       "<Figure size 432x288 with 1 Axes>"
      ]
     },
     "metadata": {
      "needs_background": "light"
     },
     "output_type": "display_data"
    }
   ],
   "source": [
    "# Let's simulate the null hypothesis\n",
    "licenses_null_hypothesis = np.random.normal(loc=0, scale=np.std(licenses_rate_diffs), size=len(licenses_rate_diffs))\n",
    "\n",
    "# Lets see the null hypothesis in a histogram\n",
    "plt.title('Histogram of the null hypothesis simulation')\n",
    "plt.hist(licenses_null_hypothesis);\n",
    "plt.axvline(x=licenses_rate_diff, color='red')"
   ]
  },
  {
   "cell_type": "code",
   "execution_count": 18,
   "id": "fdc156bb-d08e-4bf4-b88f-87c56423df84",
   "metadata": {},
   "outputs": [
    {
     "name": "stdout",
     "output_type": "stream",
     "text": [
      "p-value: 0.3954\n"
     ]
    }
   ],
   "source": [
    "# Let's find our pvalue\n",
    "pvalue = (licenses_null_hypothesis > licenses_rate_diff).mean()\n",
    "print('p-value:', pvalue)"
   ]
  },
  {
   "cell_type": "markdown",
   "id": "e5d9be55-8925-48e1-9c4e-3aee3d13871b",
   "metadata": {},
   "source": [
    "Como na métrica invariante, e diferente da métrica de avaliação I, o p-value para a métrica de avaliação II foi maior que o limiar de significância (0,05). Portanto, devemos aceitar a hipótese nula, o que sugere que o novo recurso testado, não aumentou a taxa de obtenção de licensas para o software."
   ]
  },
  {
   "cell_type": "markdown",
   "id": "fc377224-84e0-4709-a883-10cb00dc1dc3",
   "metadata": {},
   "source": [
    "# Conclusão\n",
    "\n",
    "Vimos na prática se a empresa deve ou não lançar seu novo recurso. A métrica de avaliação I obteve um resultado significativo a favor da hipótese alternativa mas a métrica II não, ou seja, a mudança testada teve um forte efeito sobre o número de downloads mas não na obtenção das licenças. Se isso for suficiente para a empresa, então a substituição em favor do novo recurso testado deve ser feita.\n",
    "\n",
    "Também, vimos diversos conceitos importantes para criar um experimento, mas ainda devemos nos aprofundar mais ainda. Encorajo você, como dever de casa, se aprofundar em outros assuntos complementares em um teste A/B que irão engrandecer seu conhecimento e a qualidade dos seus testes. Alguns desses assuntos seriam:\n",
    "\n",
    "* Falta de controle dos recursos: variáveis de confusão.\n",
    "* Verificar quão bem as conclusões de um experimento podem ser suportadas: verificar a validade.\n",
    "* Verificar efeitos sistemáticos que interferem na interpretação dos resultados: verificar vieses.\n",
    "* Considerar a ética em seu experimento.\n",
    "\n",
    "**O teste A/B é um método valioso e amplamente praticado na indústria, obter conclusões corroboradas por dados e estatística, sem dúvida, irá te proporcionar um retorno mais positivo nas suas decisões.**\n",
    "\n",
    "***\n",
    "\n",
    "Enfim, vamos resumir nosso trabalho até aqui:\n",
    "\n",
    "* Dimensionamos o experimento e coletamos os dados necessários da amostra.\n",
    "* Verificamos a significância da métrica invariante.\n",
    "* Verificamos a significância das métricas de avaliação I e II.\n",
    "* Fizemos nossa análise prescritiva.\n",
    "\n",
    "Espero que esse artigo te ajude nos seus projetos, fique a vontade para complementar e trazer novas intuições!"
   ]
  }
 ],
 "metadata": {
  "kernelspec": {
   "display_name": "Python 3",
   "language": "python",
   "name": "python3"
  },
  "language_info": {
   "codemirror_mode": {
    "name": "ipython",
    "version": 3
   },
   "file_extension": ".py",
   "mimetype": "text/x-python",
   "name": "python",
   "nbconvert_exporter": "python",
   "pygments_lexer": "ipython3",
   "version": "3.8.8"
  }
 },
 "nbformat": 4,
 "nbformat_minor": 5
}
